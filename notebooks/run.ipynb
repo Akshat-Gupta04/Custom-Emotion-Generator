{
  "cells": [
    {
      "cell_type": "code",
      "execution_count": null,
      "metadata": {
        "id": "23yZvUlagEsx"
      },
      "outputs": [],
      "source": [
        "#@title #(Optional) Check GPU\n",
        "#@markdown Some models may not function correctly on a CPU runtime.\n",
        "\n",
        "#@markdown so you should check your GPU setup before run.\n",
        "!nvidia-smi"
      ]
    },
    {
      "cell_type": "code",
      "execution_count": null,
      "metadata": {
        "cellView": "form",
        "id": "kNbSbsctxahq"
      },
      "outputs": [],
      "source": [
        "#@title #Installation\n",
        "#@markdown This cell will install dependencies for [AdvancedLivePortrait-WebUI](https://github.com/jhj0517/AdvancedLivePortrait-WebUI/tree/master)!\n",
        "\n",
        "!git clone https://github.com/jhj0517/AdvancedLivePortrait-WebUI.git\n",
        "%cd AdvancedLivePortrait-WebUI\n",
        "!pip install lmdb\n",
        "!pip install ultralytics\n",
        "!pip install tyro\n",
        "!pip install dill\n",
        "!pip install gradio-i18n\n"
      ]
    },
    {
      "cell_type": "code",
      "execution_count": null,
      "metadata": {
        "cellView": "form",
        "id": "PQroYRRZzQiN"
      },
      "outputs": [],
      "source": [
        "#@title #Run\n",
        "#@markdown Once the installation is complete, you can use public URL that is displayed.\n",
        "\n",
        "!python app.py --share"
      ]
    }
  ],
  "metadata": {
    "accelerator": "GPU",
    "colab": {
      "gpuType": "T4",
      "provenance": []
    },
    "kernelspec": {
      "display_name": "Python 3",
      "name": "python3"
    },
    "language_info": {
      "name": "python"
    }
  },
  "nbformat": 4,
  "nbformat_minor": 0
}
